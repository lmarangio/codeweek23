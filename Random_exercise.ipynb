{
 "cells": [
  {
   "cell_type": "markdown",
   "id": "63549fe4-1199-4329-a673-1ebd538b2d20",
   "metadata": {},
   "source": [
    "### First Exercise\n",
    "\n",
    "The goal of this exercise is to create a script, that given a number n, generates n random numbers and compute the average of those.\n",
    "Altough the script it is pretty useless in real life, it will allow us to dive into several Python aspects.  "
   ]
  },
  {
   "cell_type": "markdown",
   "id": "dd23d970-8253-4f06-b6a4-ddbca2e279f4",
   "metadata": {},
   "source": [
    "First of all we need to import the right library to generate random numbers. We could write a (pseudo) random function by our own, but that's already somebody who thought about this :) https://docs.python.org/3/library/random.html"
   ]
  },
  {
   "cell_type": "code",
   "execution_count": null,
   "id": "eccd89a0-9f94-40b8-be32-6bb5921a6936",
   "metadata": {},
   "outputs": [],
   "source": [
    "import random"
   ]
  },
  {
   "cell_type": "markdown",
   "id": "78bf292f-7d2a-45a6-96dd-6bd1db6423cf",
   "metadata": {},
   "source": [
    "Now that you have imported this library, you can use the functions in this library throughout the notebook. The main function (or method) in the random library, guess what, is called random :) "
   ]
  },
  {
   "cell_type": "code",
   "execution_count": null,
   "id": "e0f714a8-198d-499f-9e90-14ec524d0f4e",
   "metadata": {},
   "outputs": [],
   "source": [
    "# By default, random method generates a number between 0 and 1.\n",
    "x = random.random()\n",
    "\n",
    "#Do not forget to print this number\n",
    "print(x)"
   ]
  },
  {
   "cell_type": "markdown",
   "id": "b754e65b-6741-41e8-9647-0bfa7776db4f",
   "metadata": {},
   "source": [
    "Now we want to generate \"n\" random numbers, and then compute the average. First of all, let's initialize a variable n = 100. You can change the value in the cell below, if want to generate a different number of random numbers"
   ]
  },
  {
   "cell_type": "code",
   "execution_count": null,
   "id": "f5984307-bf19-4edb-a109-5c1d164a3d0c",
   "metadata": {},
   "outputs": [],
   "source": [
    "n = 100"
   ]
  },
  {
   "cell_type": "markdown",
   "id": "b81f0869-19af-4647-9b03-de1912d35671",
   "metadata": {},
   "source": [
    "We want to save this 100 numbers somewhere. Python offers different solutions, or different types, to store data. We are going to use a list."
   ]
  },
  {
   "cell_type": "code",
   "execution_count": null,
   "id": "168baf0d-0da8-467e-a8f2-554ed23afb3d",
   "metadata": {},
   "outputs": [],
   "source": [
    "# Usually we want to use shorter names for variables.\n",
    "list_of_numbers = []"
   ]
  },
  {
   "cell_type": "markdown",
   "id": "13c9bdf3-5302-40db-a8cb-32ba54ccb23e",
   "metadata": {},
   "source": [
    "In order to add our random numbers to this list, we have to use two very standard thing:\n",
    "- a 'for cycle', to repeat 100 times the same process: generate a random number + save it to the list\n",
    "- 'append' method: with this built-in function, we can add an element to a list"
   ]
  },
  {
   "cell_type": "code",
   "execution_count": null,
   "id": "321bca08-659e-4fc1-b4da-a9d198a3d6f1",
   "metadata": {},
   "outputs": [],
   "source": [
    "for _ in range(n):\n",
    "    x = random.random()\n",
    "    list_of_numbers.append(x)"
   ]
  },
  {
   "cell_type": "markdown",
   "id": "6e5ecc75-eb38-479d-8299-1401c89834a3",
   "metadata": {},
   "source": [
    "Did it work? Let's access the list and print the 32nd element for instance!"
   ]
  },
  {
   "cell_type": "code",
   "execution_count": null,
   "id": "1eed4bf8-0d53-4f48-9cce-01b1de5ffcbf",
   "metadata": {},
   "outputs": [],
   "source": [
    "#ATTENTION: in Python we start to count from 0.\n",
    "print(list_of_numbers[31])"
   ]
  },
  {
   "cell_type": "markdown",
   "id": "94e5ce49-10f2-45a3-bee3-86834c13abc6",
   "metadata": {},
   "source": [
    "Finally, we want to compute the average of all this numbers:\n",
    "- sum all them up\n",
    "- divide by n"
   ]
  },
  {
   "cell_type": "code",
   "execution_count": null,
   "id": "db8a24c3-aa74-4c5f-bc06-07f0d1ca727e",
   "metadata": {},
   "outputs": [],
   "source": [
    "#sum is a special function that comes with Python, as well as the real division '/'. Do not need to import them.\n",
    "\n",
    "sum(list_of_numbers)/n"
   ]
  },
  {
   "cell_type": "markdown",
   "id": "30ee56d9-a447-4d85-bbc0-f1f8a207274d",
   "metadata": {},
   "source": [
    "Now, let's say that we want to reuse this script somewhere else; maybe in the same notebook, but in another cell. And of course we do not want to rewrite down every cell. Let's say that we want also the liberty to specify the number of random numbers we want to generate, without having to change a value in a cell all the time. We need functions."
   ]
  },
  {
   "cell_type": "code",
   "execution_count": null,
   "id": "6b4944c6-204c-4494-93cd-f06967bcd2d2",
   "metadata": {},
   "outputs": [],
   "source": [
    "def average_of_random_numbers(n):\n",
    "    list_of_numbers = []\n",
    "    for _ in range(n):\n",
    "        x = random.random()\n",
    "        list_of_numbers.append(x)\n",
    "    return sum(list_of_numbers)/n"
   ]
  },
  {
   "cell_type": "code",
   "execution_count": null,
   "id": "2e98e5a4-526d-4fb7-8d2e-ce4786813499",
   "metadata": {},
   "outputs": [],
   "source": [
    "average_of_random_numbers(1000)"
   ]
  }
 ],
 "metadata": {
  "kernelspec": {
   "display_name": "Python 3 (ipykernel)",
   "language": "python",
   "name": "python3"
  },
  "language_info": {
   "codemirror_mode": {
    "name": "ipython",
    "version": 3
   },
   "file_extension": ".py",
   "mimetype": "text/x-python",
   "name": "python",
   "nbconvert_exporter": "python",
   "pygments_lexer": "ipython3",
   "version": "3.10.11"
  }
 },
 "nbformat": 4,
 "nbformat_minor": 5
}
