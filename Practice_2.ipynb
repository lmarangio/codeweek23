{
 "cells": [
  {
   "cell_type": "markdown",
   "id": "0f020cd4-fae2-43ea-af58-85f0fa8e9826",
   "metadata": {},
   "source": [
    "# A bit of Pandas\n",
    "\n",
    "## Introduction\n",
    "In this notebook, you will learn how to import data from an Excel file using Python and the Pandas library. \n",
    "Follow the instructions and complete the exercises as you go along."
   ]
  },
  {
   "cell_type": "code",
   "execution_count": null,
   "id": "7daa6d5a-ca1d-4eb9-9443-25c909d2b63a",
   "metadata": {},
   "outputs": [],
   "source": [
    "# Step 1: Import the pandas library\n",
    "import pandas as pd\n",
    "\n",
    "# Step 2: Define the path to the Excel file you want to import\n",
    "excel_file_path = 'Sample_dataset.xlsx'  # Replace with the path to your Excel file\n",
    "\n",
    "# Step 3: Use the 'pd.read_excel()' function to read the Excel file into a DataFrame\n",
    "try:\n",
    "    # Attempt to read the Excel file into a DataFrame\n",
    "    data = pd.read_excel(excel_file_path)\n",
    "\n",
    "    # Step 4: Display the first few rows of the DataFrame to inspect the data\n",
    "    print(\"Step 4: Displaying the first few rows of the imported data:\")\n",
    "    print(data.head())\n",
    "\n",
    "    # Step 5: Perform data analysis and manipulation using pandas DataFrame methods\n",
    "    # For example, you can calculate statistics, filter data, or create new columns here.\n",
    "\n",
    "    # Step 6: Save the modified DataFrame back to a new Excel file if needed\n",
    "    # For example, you can use 'data.to_excel()' to save the DataFrame to a new Excel file.\n",
    "\n",
    "except FileNotFoundError:\n",
    "    print(\"Step 3: Error - The specified Excel file was not found.\")\n",
    "except pd.errors.ParserError:\n",
    "    print(\"Step 3: Error - There was an issue parsing the Excel file.\")\n"
   ]
  },
  {
   "cell_type": "markdown",
   "id": "2766cf37-c8a5-4e71-a8c9-7517214b0660",
   "metadata": {},
   "source": [
    "**Hands on!**\n",
    "\n",
    "The code below misses some information, indicated by ___. Fill it with the right solution and run the cell!"
   ]
  },
  {
   "cell_type": "code",
   "execution_count": null,
   "id": "015b058b-9abf-4a96-a322-59d852358672",
   "metadata": {},
   "outputs": [],
   "source": [
    "# Step 1: Import the pandas library\n",
    "\n",
    "import ___ as pd"
   ]
  },
  {
   "cell_type": "code",
   "execution_count": null,
   "id": "09cdfd00-33af-475d-9548-9cbaf8bfc016",
   "metadata": {},
   "outputs": [],
   "source": [
    "# Step 2: Define the path to the Excel file you want to modify\n",
    "\n",
    "input_excel_path = '___.xlsx'  # Replace with the path to your input Excel file"
   ]
  },
  {
   "cell_type": "code",
   "execution_count": null,
   "id": "81dd1ade-382f-405d-9476-98905c4a3966",
   "metadata": {},
   "outputs": [],
   "source": [
    "# Step 3: Use a try-except block to handle possible errors\n",
    "try:\n",
    "    # Step 4: Use 'pd.read_excel()' to read the Excel file into a DataFrame\n",
    "    data = pd.___(input_excel_path)  # Complete the function to read the Excel file\n",
    "    \n",
    "    # Step 5: Delete the first row of the DataFrame\n",
    "    data = data.iloc[1:]  # Complete the code to remove the first row\n",
    "    \n",
    "    # Step 6: Save the modified DataFrame to a new Excel file\n",
    "    output_excel_path_1 = 'new_file_name.xlsx'  # Define the path for the first output file\n",
    "    data.___(output_excel_path_1, index=False)  # Complete the function to save the DataFrame\n",
    "    \n",
    "    # Step 7: Delete the first column of the DataFrame\n",
    "    data = data.___[:, 1:]  # Complete the code to remove the first column\n",
    "    \n",
    "    # Step 8: Save the DataFrame with the first column removed to another Excel file\n",
    "    output_excel_path_2 = 'new_file_name_2.xlsx'  # Define the path for the second output file\n",
    "    data.___(output_excel_path_2, index=False)  # Complete the function to save the DataFrame\n",
    "    \n",
    "    print(\"Data modification and saving completed successfully!\")\n",
    "\n",
    "except FileNotFoundError:\n",
    "    print(\"Error: The specified input Excel file was not found.\")\n",
    "except pd.errors.ParserError:\n",
    "    print(\"Error: There was an issue parsing the Excel file.\")"
   ]
  },
  {
   "cell_type": "code",
   "execution_count": null,
   "id": "20611b20-175d-4465-8768-b18b454d1f61",
   "metadata": {},
   "outputs": [],
   "source": [
    "# Exercise, break the code: Trigger the excpetion FileNotFoundError!"
   ]
  },
  {
   "cell_type": "code",
   "execution_count": null,
   "id": "234b3f1f-a080-476f-a84e-6c1055ed5e45",
   "metadata": {},
   "outputs": [],
   "source": []
  }
 ],
 "metadata": {
  "kernelspec": {
   "display_name": "Python 3 (ipykernel)",
   "language": "python",
   "name": "python3"
  },
  "language_info": {
   "codemirror_mode": {
    "name": "ipython",
    "version": 3
   },
   "file_extension": ".py",
   "mimetype": "text/x-python",
   "name": "python",
   "nbconvert_exporter": "python",
   "pygments_lexer": "ipython3",
   "version": "3.10.11"
  }
 },
 "nbformat": 4,
 "nbformat_minor": 5
}
