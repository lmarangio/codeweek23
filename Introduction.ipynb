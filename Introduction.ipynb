{
 "cells": [
  {
   "cell_type": "markdown",
   "id": "185a7bed-ad65-4e0b-a563-856a60a9714a",
   "metadata": {},
   "source": [
    "### INTRODUCTION TO JUPYTER NOTEBOOKS - CODE WEEK '23\n",
    "\n",
    "Let's run our first piece of code."
   ]
  },
  {
   "cell_type": "code",
   "execution_count": null,
   "id": "efe2e076-5ede-46e6-865e-3a213068b033",
   "metadata": {},
   "outputs": [],
   "source": [
    "2+2"
   ]
  },
  {
   "cell_type": "markdown",
   "id": "2ceac8b1-4105-47dd-9916-b3222025b0cf",
   "metadata": {},
   "source": [
    "We can also do more :)"
   ]
  },
  {
   "cell_type": "code",
   "execution_count": null,
   "id": "68f986fe-1309-4ef2-8454-1e43db7506f7",
   "metadata": {},
   "outputs": [],
   "source": [
    "exp(0)"
   ]
  },
  {
   "cell_type": "markdown",
   "id": "d8d53dbe-088e-468f-a75e-36c04cf23b07",
   "metadata": {},
   "source": [
    "We need a library, in order to be able to access special functions."
   ]
  },
  {
   "cell_type": "code",
   "execution_count": null,
   "id": "f900b572-8438-401c-9684-ea6e01404f6d",
   "metadata": {
    "scrolled": true
   },
   "outputs": [],
   "source": [
    "import math \n",
    "\n",
    "math.exp(0)\n",
    "math.exp(2)"
   ]
  },
  {
   "cell_type": "markdown",
   "id": "edeb3eac-84ec-461f-93a5-56c4d8a6d566",
   "metadata": {},
   "source": [
    "We can assign alias and specify what we want to import."
   ]
  },
  {
   "cell_type": "code",
   "execution_count": null,
   "id": "b23f09f7-bdd5-409d-8873-93431222aeb4",
   "metadata": {},
   "outputs": [],
   "source": [
    "from math import exp as e\n",
    "\n",
    "e(0)\n",
    "e(2)"
   ]
  },
  {
   "cell_type": "code",
   "execution_count": null,
   "id": "9974e9ce-5a82-4e9b-af02-3225637bfe2f",
   "metadata": {},
   "outputs": [],
   "source": [
    "from math import exp as e\n",
    "\n",
    "print(e(0), e(2))"
   ]
  },
  {
   "cell_type": "code",
   "execution_count": null,
   "id": "8522f12f-83d2-49ec-a589-42bac511185a",
   "metadata": {},
   "outputs": [],
   "source": [
    "from math import exp as e\n",
    "\n",
    "print(e(0) + e(2))"
   ]
  },
  {
   "cell_type": "markdown",
   "id": "20a93c57-5d8c-4325-85d8-5aad6853e5c6",
   "metadata": {},
   "source": [
    "In a nutshell: understand what you want -> find the library you need -> study the library -> implement your idea. Easy no?"
   ]
  },
  {
   "cell_type": "code",
   "execution_count": null,
   "id": "97e8223a-23e3-4346-b2d3-67377236172f",
   "metadata": {},
   "outputs": [],
   "source": [
    "from matplotlib import pyplot as plt\n",
    "from math import exp as e\n",
    "\n",
    "x = e(0)\n",
    "y = e(2)\n",
    "\n",
    "fig, ax = plt.subplots()\n"
   ]
  },
  {
   "cell_type": "code",
   "execution_count": null,
   "id": "7270cd05-8692-44f2-a838-3ff1e52ae32a",
   "metadata": {},
   "outputs": [],
   "source": [
    "from matplotlib import pyplot as plt\n",
    "from math import exp as e\n",
    "\n",
    "x = e(0)\n",
    "y = e(2)\n",
    "\n",
    "fig, ax = plt.subplots()\n",
    "ax.scatter(x=x, y=y)"
   ]
  },
  {
   "cell_type": "code",
   "execution_count": null,
   "id": "3402f6ef-6948-4586-b744-3c1e9e441b21",
   "metadata": {},
   "outputs": [],
   "source": []
  }
 ],
 "metadata": {
  "kernelspec": {
   "display_name": "Python 3 (ipykernel)",
   "language": "python",
   "name": "python3"
  },
  "language_info": {
   "codemirror_mode": {
    "name": "ipython",
    "version": 3
   },
   "file_extension": ".py",
   "mimetype": "text/x-python",
   "name": "python",
   "nbconvert_exporter": "python",
   "pygments_lexer": "ipython3",
   "version": "3.10.11"
  }
 },
 "nbformat": 4,
 "nbformat_minor": 5
}
