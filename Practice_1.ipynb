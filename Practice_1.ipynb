{
 "cells": [
  {
   "cell_type": "markdown",
   "id": "0b2fdf1c-a7bc-4548-a40d-542324c921d6",
   "metadata": {},
   "source": [
    "**Hands on!**\n",
    "\n",
    "The code below misses some information, indicated by ___. Fill it with the right solution and run the cell!"
   ]
  },
  {
   "cell_type": "code",
   "execution_count": null,
   "id": "ea476f0e-4e4b-4410-80c4-c8c81d25549e",
   "metadata": {},
   "outputs": [],
   "source": [
    "# Task: Import the 'random' library\n",
    "\n",
    "import ___\n"
   ]
  },
  {
   "cell_type": "code",
   "execution_count": null,
   "id": "26e2184c-dfed-4808-a21b-84b3bbf9800f",
   "metadata": {},
   "outputs": [],
   "source": [
    "# Task: Create a function named 'generate_random_numbers' that takes two arguments, 'n' and 'max_num'.\n",
    "# The function should generate 'n' integer random numbers between 1 and 'max_num' and return them in a list.\n",
    "\n",
    "def generate_random_numbers(n, max_num):\n",
    "    random_numbers = []\n",
    "    for _ in range(n):\n",
    "        random_num = random.randint(1, max_num)  # Generate a random number between 1 and 'max_num'\n",
    "        random_numbers.___(random_num)  # Add the random number to the list \n",
    "    return random_numbers\n"
   ]
  },
  {
   "cell_type": "code",
   "execution_count": null,
   "id": "d593434e-ebc6-4f6f-8fc2-64d7c41c4472",
   "metadata": {},
   "outputs": [],
   "source": [
    "# Task: Prompt the user for input to determine how many random numbers to generate and the maximum value.\n",
    "# Hint: nothing to do here, just run the cell and interact with the output!\n",
    "num_numbers = int(input(\"Enter the number of random numbers to generate: \"))\n",
    "max_value = int(input(\"Enter the maximum value for the random numbers: \"))"
   ]
  },
  {
   "cell_type": "code",
   "execution_count": null,
   "id": "32af8a0e-cede-49af-afed-219fb3ce61bd",
   "metadata": {},
   "outputs": [],
   "source": [
    "# Task: Call the 'generate_random_numbers' function with the user's inputs.\n",
    "\n",
    "random_numbers = generate_random_numbers(num_numbers, max_value)"
   ]
  },
  {
   "cell_type": "code",
   "execution_count": null,
   "id": "6fa19c65-264f-4155-9eb7-205df3347399",
   "metadata": {},
   "outputs": [],
   "source": [
    "# Task: Calculate and print the sum of the generated numbers.\n",
    "total_sum = ___\n",
    "print(\"Sum of generated numbers:\", total_sum)"
   ]
  },
  {
   "cell_type": "code",
   "execution_count": null,
   "id": "6d44bf4d-f5ad-430f-b5a9-68b0dca865e7",
   "metadata": {},
   "outputs": [],
   "source": [
    "# Task: Calculate and print the average of the generated numbers.\n",
    "average = ___\n",
    "print(\"Average of generated numbers:\", average)"
   ]
  },
  {
   "cell_type": "code",
   "execution_count": null,
   "id": "8a38e129-e669-4986-a286-c98b55a04323",
   "metadata": {},
   "outputs": [],
   "source": [
    "# Task: Find and print the minimum and maximum values in the list of random numbers.\n",
    "# Hint: search Google for \"Python, minimum of a list\"\n",
    "\n",
    "min_value = ___\n",
    "max_value = ___\n",
    "print(\"Minimum value:\", min_value)\n",
    "print(\"Maximum value:\", max_value)"
   ]
  },
  {
   "cell_type": "code",
   "execution_count": null,
   "id": "8b10b0e6-6ff7-4d8f-a1f9-82857434a49f",
   "metadata": {},
   "outputs": [],
   "source": [
    "# Task: Count and print how many numbers in the list are even and how many are odd.\n",
    "\n",
    "even_count = sum(1 for num in random_numbers if num % 2 == 0)\n",
    "odd_count = num_numbers - ___\n",
    "print(\"Even numbers:\", even_count)\n",
    "print(\"Odd numbers:\", odd_count)"
   ]
  },
  {
   "cell_type": "code",
   "execution_count": null,
   "id": "b19eb149-ae4f-45f3-8106-33e1caba03da",
   "metadata": {},
   "outputs": [],
   "source": [
    "# Task 10: Create a histogram to visualize the distribution of the random numbers.\n",
    "\n",
    "import matplotlib.pyplot as ___  # Import the 'matplotlib.pyplot' library for visualization with an alias \n",
    "\n",
    "plt.hist(random_numbers, bins=20, color='skyblue', edgecolor='black')\n",
    "plt.title(\"Task 10: Random Number Distribution\")\n",
    "plt.xlabel(\"Value\")\n",
    "plt.ylabel(\"Frequency\")\n",
    "plt.show()  # Display the histogram"
   ]
  }
 ],
 "metadata": {
  "kernelspec": {
   "display_name": "Python 3 (ipykernel)",
   "language": "python",
   "name": "python3"
  },
  "language_info": {
   "codemirror_mode": {
    "name": "ipython",
    "version": 3
   },
   "file_extension": ".py",
   "mimetype": "text/x-python",
   "name": "python",
   "nbconvert_exporter": "python",
   "pygments_lexer": "ipython3",
   "version": "3.10.11"
  }
 },
 "nbformat": 4,
 "nbformat_minor": 5
}
